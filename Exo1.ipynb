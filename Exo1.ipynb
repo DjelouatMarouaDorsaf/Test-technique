{
 "cells": [
  {
   "cell_type": "code",
   "execution_count": 40,
   "metadata": {},
   "outputs": [],
   "source": [
    "import csv\n",
    "import random\n",
    "import matplotlib.pyplot as plt\n",
    "import statistics"
   ]
  },
  {
   "cell_type": "code",
   "execution_count": 15,
   "metadata": {},
   "outputs": [],
   "source": [
    "#lecture des fichiers CSV, suppression des doublons et stockage des données dans une liste\n",
    "\n",
    "def lecture_csv_sans_repet(fichier):\n",
    "\tcodes=[]\n",
    "\twith open(fichier, \"r\") as f:\n",
    "   \t\treader = csv.reader(f, delimiter=\"\\t\")\n",
    "   \t\tfor i in reader:\n",
    "   \t\t\ts = ''.join(filter(str.isalnum, str(i)))\n",
    "   \t\t\tif(s not in codes):\n",
    "   \t\t\t\tcodes.append(s)\n",
    "\treturn codes"
   ]
  },
  {
   "cell_type": "code",
   "execution_count": 16,
   "metadata": {},
   "outputs": [],
   "source": [
    "#lecture des fichiers CSV et stockage des données dans une liste (avec conservation des doublons)\n",
    "\n",
    "def lecture_csv_avec_repet(fichier):\n",
    "\tcodes=[]\n",
    "\twith open(fichier, \"r\") as f:\n",
    "   \t\treader = csv.reader(f, delimiter=\"\\t\")\n",
    "   \t\tfor i in reader:\n",
    "   \t\t\ts = ''.join(filter(str.isalnum, str(i)))\n",
    "   \t\t\tcodes.append(s)\n",
    "\treturn codes"
   ]
  },
  {
   "cell_type": "code",
   "execution_count": 17,
   "metadata": {},
   "outputs": [],
   "source": [
    "#Question 1 : calcul du % des codes disponibles par rapport à tous les codes \n",
    "\n",
    "def pourcentageCodesDispo ():\n",
    "\tcodesDispo=lecture_csv_sans_repet('codes_disponibles.csv')\n",
    "\ttousLesCodes=lecture_csv_sans_repet('tous_les_codes.csv')\n",
    "\tPCD= (len(codesDispo) * 100) / len(tousLesCodes)\n",
    "\tprint('Le pourcentage des codes disponibles par rapport à tous les codes est de : ' + str(PCD))\n"
   ]
  },
  {
   "cell_type": "code",
   "execution_count": 43,
   "metadata": {},
   "outputs": [],
   "source": [
    "#Question 2 : calcul de la fréquence d'un code disponible donné\n",
    "\n",
    "def frequenceCodeDispoDonne(code):\n",
    "    nb_apparition=0\n",
    "    codesDispo=lecture_csv_avec_repet('codes_disponibles.csv')\n",
    "    for c in codesDispo:\n",
    "        if c == code :\n",
    "            nb_apparition+=1\n",
    "    frequence=nb_apparition/len(codesDispo)\n",
    "    return frequence"
   ]
  },
  {
   "cell_type": "code",
   "execution_count": 44,
   "metadata": {},
   "outputs": [],
   "source": [
    "#Question 3 : affichage graphique des fréquences de 5 codes disponibles\n",
    "\n",
    "\n",
    "def selectRandom(liste):\n",
    "  return random.choice(liste)\n",
    "\n",
    "def cinqFrequencesCodesAleatoires():  \n",
    "    cinqCodesDisposAleatoires=[]\n",
    "    frequencesA=[]\n",
    "    codesDispo=lecture_csv_sans_repet('codes_disponibles.csv')\n",
    "    for c in range(5):\n",
    "        codeDispoRandom=selectRandom(codesDispo)\n",
    "        cinqCodesDisposAleatoires.append(codeDispoRandom)\n",
    "        fr=frequenceCodeDispoDonne(codeDispoRandom)\n",
    "        frequencesA.append(fr)\t\n",
    "        print('La fréquence du code '+ str(codeDispoRandom) +' est de : ' +str(fr))\n",
    "    plt.bar(cinqCodesDisposAleatoires,frequencesA, width = 0.4, color = 'blue')\n",
    "    plt.show()\n",
    "   "
   ]
  },
  {
   "cell_type": "code",
   "execution_count": 45,
   "metadata": {},
   "outputs": [
    {
     "name": "stdout",
     "output_type": "stream",
     "text": [
      "La fréquence du code 441233 est de : 9.831445331702042e-05\n",
      "La fréquence du code 200990 est de : 0.0004205673836339207\n",
      "La fréquence du code 870324 est de : 0.0002785576177315578\n",
      "La fréquence du code 820790 est de : 0.0006335820324874649\n",
      "La fréquence du code 200870 est de : 9.285253924385261e-05\n"
     ]
    },
    {
     "data": {
      "image/png": "[encoded data removed]",
      "text/plain": [
       "<Figure size 432x288 with 1 Axes>"
      ]
     },
     "metadata": {
      "needs_background": "light"
     },
     "output_type": "display_data"
    }
   ],
   "source": [
    "cinqFrequencesCodesAleatoires()"
   ]
  },
  {
   "cell_type": "code",
   "execution_count": 49,
   "metadata": {},
   "outputs": [],
   "source": [
    "#Question 4 : affichage graphique qui permet de visualiser le max, le min, la médiane \n",
    "#et la moyenne des fréquences des codes disponibles\n",
    "\n",
    "def frequenceCodesDispos(): \n",
    "    frequence=[]\n",
    "    codesDispo=lecture_csv_sans_repet('codes_disponibles.csv')\n",
    "    for c in codesDispo:\n",
    "        frequence.append(frequenceCodeDispoDonne(c))\n",
    "    return frequence\n",
    "\n",
    "def statistiques():\n",
    "    freq=frequenceCodesDispos()\n",
    "    minFrequences=min(freq)\n",
    "    maxFrequences=max(freq)\n",
    "    medianeFrequences=statistics.median(freq)\n",
    "    moyenneFrequences=statistics.mean(freq)\n",
    "    \n",
    "    X=['min','max','médiane', 'moyenne']\n",
    "    Y=[minFrequences,maxFrequences,medianeFrequences,moyenneFrequences]\n",
    "    plt.bar(X,Y, width = 0.4, color = 'blue')\n",
    "    plt.show()"
   ]
  },
  {
   "cell_type": "code",
   "execution_count": 50,
   "metadata": {},
   "outputs": [
    {
     "data": {
      "image/png": "[encoded data removed]",
      "text/plain": [
       "<Figure size 432x288 with 1 Axes>"
      ]
     },
     "metadata": {
      "needs_background": "light"
     },
     "output_type": "display_data"
    }
   ],
   "source": [
    "statistiques()"
   ]
  },
  {
   "cell_type": "code",
   "execution_count": null,
   "metadata": {},
   "outputs": [],
   "source": []
  }
 ],
 "metadata": {
  "kernelspec": {
   "display_name": "Python 3",
   "language": "python",
   "name": "python3"
  },
  "language_info": {
   "codemirror_mode": {
    "name": "ipython",
    "version": 3
   },
   "file_extension": ".py",
   "mimetype": "text/x-python",
   "name": "python",
   "nbconvert_exporter": "python",
   "pygments_lexer": "ipython3",
   "version": "3.7.3"
  }
 },
 "nbformat": 4,
 "nbformat_minor": 4
}
